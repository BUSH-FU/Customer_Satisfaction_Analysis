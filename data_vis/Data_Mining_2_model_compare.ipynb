{
 "cells": [
  {
   "cell_type": "code",
   "execution_count": 1,
   "metadata": {},
   "outputs": [],
   "source": [
    "import pandas as pd"
   ]
  },
  {
   "cell_type": "code",
   "execution_count": 2,
   "metadata": {},
   "outputs": [
    {
     "data": {
      "text/html": [
       "<div>\n",
       "<style scoped>\n",
       "    .dataframe tbody tr th:only-of-type {\n",
       "        vertical-align: middle;\n",
       "    }\n",
       "\n",
       "    .dataframe tbody tr th {\n",
       "        vertical-align: top;\n",
       "    }\n",
       "\n",
       "    .dataframe thead th {\n",
       "        text-align: right;\n",
       "    }\n",
       "</style>\n",
       "<table border=\"1\" class=\"dataframe\">\n",
       "  <thead>\n",
       "    <tr style=\"text-align: right;\">\n",
       "      <th></th>\n",
       "      <th>order_id</th>\n",
       "      <th>crawl_datetime</th>\n",
       "      <th>url</th>\n",
       "      <th>hotel_name</th>\n",
       "      <th>post_time</th>\n",
       "      <th>user_level</th>\n",
       "      <th>user_name</th>\n",
       "      <th>content</th>\n",
       "      <th>user_score</th>\n",
       "    </tr>\n",
       "  </thead>\n",
       "  <tbody>\n",
       "    <tr>\n",
       "      <th>0</th>\n",
       "      <td>1</td>\n",
       "      <td>2018-03-27 16:26:17</td>\n",
       "      <td>http://hotels.ctrip.com/hotel/dianping/1490366...</td>\n",
       "      <td>武隆强兴客栈</td>\n",
       "      <td>发表于2018-01-05</td>\n",
       "      <td>level_new</td>\n",
       "      <td>M***1</td>\n",
       "      <td>真的不错，看到这个评论有些人说不怎么好，个人有点小洁癖，害怕卫生不干净，但是去了之后，发现房...</td>\n",
       "      <td>5.0</td>\n",
       "    </tr>\n",
       "    <tr>\n",
       "      <th>1</th>\n",
       "      <td>2</td>\n",
       "      <td>2018-03-27 16:26:17</td>\n",
       "      <td>http://hotels.ctrip.com/hotel/dianping/1490366...</td>\n",
       "      <td>武隆强兴客栈</td>\n",
       "      <td>发表于2017-09-30</td>\n",
       "      <td>level_new</td>\n",
       "      <td>M***6</td>\n",
       "      <td>第一次到武隆玩，觉得酒店卫生各方面还行，服务态度好，吃饭方便楼下特色小吃也很多，老板娘还亲自...</td>\n",
       "      <td>4.5</td>\n",
       "    </tr>\n",
       "    <tr>\n",
       "      <th>2</th>\n",
       "      <td>3</td>\n",
       "      <td>2018-03-27 16:26:17</td>\n",
       "      <td>http://hotels.ctrip.com/hotel/dianping/1490366...</td>\n",
       "      <td>武隆强兴客栈</td>\n",
       "      <td>发表于2017-08-15</td>\n",
       "      <td>level_new</td>\n",
       "      <td>_***1</td>\n",
       "      <td>要去武隆天生三桥，晚上坐火车到了。如果想旅途开心，还是不要住这里了。第一，床单上黄的、黑的，...</td>\n",
       "      <td>1.0</td>\n",
       "    </tr>\n",
       "    <tr>\n",
       "      <th>3</th>\n",
       "      <td>4</td>\n",
       "      <td>2018-03-27 16:26:17</td>\n",
       "      <td>http://hotels.ctrip.com/hotel/dianping/1490366...</td>\n",
       "      <td>武隆强兴客栈</td>\n",
       "      <td>发表于2017-05-07</td>\n",
       "      <td>level_daren</td>\n",
       "      <td>阿龙</td>\n",
       "      <td>怎么说呢？这家酒店离车站很近，比较方便，我们是在五一前订的，价格才88，不知道是不是比较便宜...</td>\n",
       "      <td>3.0</td>\n",
       "    </tr>\n",
       "    <tr>\n",
       "      <th>4</th>\n",
       "      <td>5</td>\n",
       "      <td>2018-03-27 16:26:17</td>\n",
       "      <td>http://hotels.ctrip.com/hotel/dianping/1490366...</td>\n",
       "      <td>武隆强兴客栈</td>\n",
       "      <td>发表于2017-04-01</td>\n",
       "      <td>level_new</td>\n",
       "      <td>M***4</td>\n",
       "      <td>老板人很好，为了方便我们停车还特地给我们占着停车位。感觉还是挺干净的，被子上折痕还在，应该是...</td>\n",
       "      <td>3.5</td>\n",
       "    </tr>\n",
       "  </tbody>\n",
       "</table>\n",
       "</div>"
      ],
      "text/plain": [
       "   order_id       crawl_datetime  \\\n",
       "0         1  2018-03-27 16:26:17   \n",
       "1         2  2018-03-27 16:26:17   \n",
       "2         3  2018-03-27 16:26:17   \n",
       "3         4  2018-03-27 16:26:17   \n",
       "4         5  2018-03-27 16:26:17   \n",
       "\n",
       "                                                 url hotel_name  \\\n",
       "0  http://hotels.ctrip.com/hotel/dianping/1490366...     武隆强兴客栈   \n",
       "1  http://hotels.ctrip.com/hotel/dianping/1490366...     武隆强兴客栈   \n",
       "2  http://hotels.ctrip.com/hotel/dianping/1490366...     武隆强兴客栈   \n",
       "3  http://hotels.ctrip.com/hotel/dianping/1490366...     武隆强兴客栈   \n",
       "4  http://hotels.ctrip.com/hotel/dianping/1490366...     武隆强兴客栈   \n",
       "\n",
       "       post_time   user_level user_name  \\\n",
       "0  发表于2018-01-05    level_new     M***1   \n",
       "1  发表于2017-09-30    level_new     M***6   \n",
       "2  发表于2017-08-15    level_new     _***1   \n",
       "3  发表于2017-05-07  level_daren        阿龙   \n",
       "4  发表于2017-04-01    level_new     M***4   \n",
       "\n",
       "                                             content user_score  \n",
       "0  真的不错，看到这个评论有些人说不怎么好，个人有点小洁癖，害怕卫生不干净，但是去了之后，发现房...        5.0  \n",
       "1  第一次到武隆玩，觉得酒店卫生各方面还行，服务态度好，吃饭方便楼下特色小吃也很多，老板娘还亲自...        4.5  \n",
       "2  要去武隆天生三桥，晚上坐火车到了。如果想旅途开心，还是不要住这里了。第一，床单上黄的、黑的，...        1.0  \n",
       "3  怎么说呢？这家酒店离车站很近，比较方便，我们是在五一前订的，价格才88，不知道是不是比较便宜...        3.0  \n",
       "4  老板人很好，为了方便我们停车还特地给我们占着停车位。感觉还是挺干净的，被子上折痕还在，应该是...        3.5  "
      ]
     },
     "execution_count": 2,
     "metadata": {},
     "output_type": "execute_result"
    }
   ],
   "source": [
    "data = pd.read_csv('data/xiecheng_hotel.csv')\n",
    "data.head()"
   ]
  },
  {
   "cell_type": "markdown",
   "metadata": {},
   "source": [
    "#  model1"
   ]
  },
  {
   "cell_type": "code",
   "execution_count": 32,
   "metadata": {},
   "outputs": [
    {
     "name": "stdout",
     "output_type": "stream",
     "text": [
      "Wall time: 3.97 ms\n"
     ]
    },
    {
     "data": {
      "text/plain": [
       "[0.588, 0.588]"
      ]
     },
     "execution_count": 32,
     "metadata": {},
     "output_type": "execute_result"
    }
   ],
   "source": [
    "from snownlp import SnowNLP\n",
    "def get_sa(text_list): \n",
    "    sa_score = []\n",
    "    for text in text_list:\n",
    "        sa = SnowNLP(str(text).strip())\n",
    "        sa_score.append(round(sa.sentiments,3))\n",
    "    return sa_score\n",
    "predict_text = ['这个我不喜欢', '这个我喜欢不']\n",
    "%time get_sa(predict_text)"
   ]
  },
  {
   "cell_type": "markdown",
   "metadata": {},
   "source": [
    "#  model2"
   ]
  },
  {
   "cell_type": "code",
   "execution_count": 3,
   "metadata": {},
   "outputs": [
    {
     "name": "stdout",
     "output_type": "stream",
     "text": [
      "Wall time: 1.63 s\n",
      "[[0.15468428]\n",
      " [0.43471047]]\n"
     ]
    }
   ],
   "source": [
    "from process.sa_model_predict import SA\n",
    "# tf模型加载需要预热\n",
    "predict_text = ['这个我不喜欢', '这个我喜欢不']\n",
    "model = SA()\n",
    "%time sa_score = model.predict(predict_text)\n",
    "print(sa_score)"
   ]
  },
  {
   "cell_type": "code",
   "execution_count": 33,
   "metadata": {},
   "outputs": [
    {
     "name": "stdout",
     "output_type": "stream",
     "text": [
      "Wall time: 1min 8s\n"
     ]
    }
   ],
   "source": [
    "# 使用lambda代替循环\n",
    "# %time data['sa_model_score1']= data['content'].apply(lambda x : get_sa(x))\n",
    "# 使用内循环\n",
    "%time data['sa_model_score1']= get_sa(data['content']"
   ]
  },
  {
   "cell_type": "code",
   "execution_count": 35,
   "metadata": {},
   "outputs": [
    {
     "name": "stdout",
     "output_type": "stream",
     "text": [
      "Wall time: 1.42 s\n"
     ]
    }
   ],
   "source": [
    "# 批处理提升50倍\n",
    "%time data['sa_model_score2']= [round(float(i),3) for i in  model.predict(data['content'])]"
   ]
  },
  {
   "cell_type": "code",
   "execution_count": 36,
   "metadata": {
    "scrolled": true
   },
   "outputs": [
    {
     "data": {
      "text/html": [
       "<div>\n",
       "<style scoped>\n",
       "    .dataframe tbody tr th:only-of-type {\n",
       "        vertical-align: middle;\n",
       "    }\n",
       "\n",
       "    .dataframe tbody tr th {\n",
       "        vertical-align: top;\n",
       "    }\n",
       "\n",
       "    .dataframe thead th {\n",
       "        text-align: right;\n",
       "    }\n",
       "</style>\n",
       "<table border=\"1\" class=\"dataframe\">\n",
       "  <thead>\n",
       "    <tr style=\"text-align: right;\">\n",
       "      <th></th>\n",
       "      <th>order_id</th>\n",
       "      <th>crawl_datetime</th>\n",
       "      <th>url</th>\n",
       "      <th>hotel_name</th>\n",
       "      <th>post_time</th>\n",
       "      <th>user_level</th>\n",
       "      <th>user_name</th>\n",
       "      <th>content</th>\n",
       "      <th>user_score</th>\n",
       "      <th>sa_model_score1</th>\n",
       "      <th>sa_model_score2</th>\n",
       "      <th>user_score_normal</th>\n",
       "    </tr>\n",
       "  </thead>\n",
       "  <tbody>\n",
       "    <tr>\n",
       "      <th>0</th>\n",
       "      <td>1</td>\n",
       "      <td>2018-03-27 16:26:17</td>\n",
       "      <td>http://hotels.ctrip.com/hotel/dianping/1490366...</td>\n",
       "      <td>武隆强兴客栈</td>\n",
       "      <td>发表于2018-01-05</td>\n",
       "      <td>level_new</td>\n",
       "      <td>M***1</td>\n",
       "      <td>真的不错，看到这个评论有些人说不怎么好，个人有点小洁癖，害怕卫生不干净，但是去了之后，发现房...</td>\n",
       "      <td>5.0</td>\n",
       "      <td>0.883</td>\n",
       "      <td>0.188</td>\n",
       "      <td>1.0</td>\n",
       "    </tr>\n",
       "  </tbody>\n",
       "</table>\n",
       "</div>"
      ],
      "text/plain": [
       "   order_id       crawl_datetime  \\\n",
       "0         1  2018-03-27 16:26:17   \n",
       "\n",
       "                                                 url hotel_name  \\\n",
       "0  http://hotels.ctrip.com/hotel/dianping/1490366...     武隆强兴客栈   \n",
       "\n",
       "       post_time user_level user_name  \\\n",
       "0  发表于2018-01-05  level_new     M***1   \n",
       "\n",
       "                                             content  user_score  \\\n",
       "0  真的不错，看到这个评论有些人说不怎么好，个人有点小洁癖，害怕卫生不干净，但是去了之后，发现房...         5.0   \n",
       "\n",
       "   sa_model_score1  sa_model_score2  user_score_normal  \n",
       "0            0.883            0.188                1.0  "
      ]
     },
     "execution_count": 36,
     "metadata": {},
     "output_type": "execute_result"
    }
   ],
   "source": [
    "data.head(1)"
   ]
  },
  {
   "cell_type": "code",
   "execution_count": 6,
   "metadata": {},
   "outputs": [
    {
     "name": "stdout",
     "output_type": "stream",
     "text": [
      "Wall time: 7 ms\n"
     ]
    },
    {
     "data": {
      "text/html": [
       "<div>\n",
       "<style scoped>\n",
       "    .dataframe tbody tr th:only-of-type {\n",
       "        vertical-align: middle;\n",
       "    }\n",
       "\n",
       "    .dataframe tbody tr th {\n",
       "        vertical-align: top;\n",
       "    }\n",
       "\n",
       "    .dataframe thead th {\n",
       "        text-align: right;\n",
       "    }\n",
       "</style>\n",
       "<table border=\"1\" class=\"dataframe\">\n",
       "  <thead>\n",
       "    <tr style=\"text-align: right;\">\n",
       "      <th></th>\n",
       "      <th>order_id</th>\n",
       "      <th>crawl_datetime</th>\n",
       "      <th>url</th>\n",
       "      <th>hotel_name</th>\n",
       "      <th>post_time</th>\n",
       "      <th>user_level</th>\n",
       "      <th>user_name</th>\n",
       "      <th>content</th>\n",
       "      <th>user_score</th>\n",
       "      <th>sa_model_score1</th>\n",
       "      <th>sa_model_score2</th>\n",
       "      <th>user_score_normal</th>\n",
       "    </tr>\n",
       "  </thead>\n",
       "  <tbody>\n",
       "    <tr>\n",
       "      <th>0</th>\n",
       "      <td>1</td>\n",
       "      <td>2018-03-27 16:26:17</td>\n",
       "      <td>http://hotels.ctrip.com/hotel/dianping/1490366...</td>\n",
       "      <td>武隆强兴客栈</td>\n",
       "      <td>发表于2018-01-05</td>\n",
       "      <td>level_new</td>\n",
       "      <td>M***1</td>\n",
       "      <td>真的不错，看到这个评论有些人说不怎么好，个人有点小洁癖，害怕卫生不干净，但是去了之后，发现房...</td>\n",
       "      <td>5.0</td>\n",
       "      <td>0.883</td>\n",
       "      <td>0.188292</td>\n",
       "      <td>1.0</td>\n",
       "    </tr>\n",
       "    <tr>\n",
       "      <th>1</th>\n",
       "      <td>2</td>\n",
       "      <td>2018-03-27 16:26:17</td>\n",
       "      <td>http://hotels.ctrip.com/hotel/dianping/1490366...</td>\n",
       "      <td>武隆强兴客栈</td>\n",
       "      <td>发表于2017-09-30</td>\n",
       "      <td>level_new</td>\n",
       "      <td>M***6</td>\n",
       "      <td>第一次到武隆玩，觉得酒店卫生各方面还行，服务态度好，吃饭方便楼下特色小吃也很多，老板娘还亲自...</td>\n",
       "      <td>4.5</td>\n",
       "      <td>1.000</td>\n",
       "      <td>0.996451</td>\n",
       "      <td>0.9</td>\n",
       "    </tr>\n",
       "    <tr>\n",
       "      <th>2</th>\n",
       "      <td>3</td>\n",
       "      <td>2018-03-27 16:26:17</td>\n",
       "      <td>http://hotels.ctrip.com/hotel/dianping/1490366...</td>\n",
       "      <td>武隆强兴客栈</td>\n",
       "      <td>发表于2017-08-15</td>\n",
       "      <td>level_new</td>\n",
       "      <td>_***1</td>\n",
       "      <td>要去武隆天生三桥，晚上坐火车到了。如果想旅途开心，还是不要住这里了。第一，床单上黄的、黑的，...</td>\n",
       "      <td>1.0</td>\n",
       "      <td>0.000</td>\n",
       "      <td>0.001503</td>\n",
       "      <td>0.2</td>\n",
       "    </tr>\n",
       "    <tr>\n",
       "      <th>3</th>\n",
       "      <td>4</td>\n",
       "      <td>2018-03-27 16:26:17</td>\n",
       "      <td>http://hotels.ctrip.com/hotel/dianping/1490366...</td>\n",
       "      <td>武隆强兴客栈</td>\n",
       "      <td>发表于2017-05-07</td>\n",
       "      <td>level_daren</td>\n",
       "      <td>阿龙</td>\n",
       "      <td>怎么说呢？这家酒店离车站很近，比较方便，我们是在五一前订的，价格才88，不知道是不是比较便宜...</td>\n",
       "      <td>3.0</td>\n",
       "      <td>0.001</td>\n",
       "      <td>0.103732</td>\n",
       "      <td>0.6</td>\n",
       "    </tr>\n",
       "    <tr>\n",
       "      <th>4</th>\n",
       "      <td>5</td>\n",
       "      <td>2018-03-27 16:26:17</td>\n",
       "      <td>http://hotels.ctrip.com/hotel/dianping/1490366...</td>\n",
       "      <td>武隆强兴客栈</td>\n",
       "      <td>发表于2017-04-01</td>\n",
       "      <td>level_new</td>\n",
       "      <td>M***4</td>\n",
       "      <td>老板人很好，为了方便我们停车还特地给我们占着停车位。感觉还是挺干净的，被子上折痕还在，应该是...</td>\n",
       "      <td>3.5</td>\n",
       "      <td>1.000</td>\n",
       "      <td>0.442257</td>\n",
       "      <td>0.7</td>\n",
       "    </tr>\n",
       "  </tbody>\n",
       "</table>\n",
       "</div>"
      ],
      "text/plain": [
       "   order_id       crawl_datetime  \\\n",
       "0         1  2018-03-27 16:26:17   \n",
       "1         2  2018-03-27 16:26:17   \n",
       "2         3  2018-03-27 16:26:17   \n",
       "3         4  2018-03-27 16:26:17   \n",
       "4         5  2018-03-27 16:26:17   \n",
       "\n",
       "                                                 url hotel_name  \\\n",
       "0  http://hotels.ctrip.com/hotel/dianping/1490366...     武隆强兴客栈   \n",
       "1  http://hotels.ctrip.com/hotel/dianping/1490366...     武隆强兴客栈   \n",
       "2  http://hotels.ctrip.com/hotel/dianping/1490366...     武隆强兴客栈   \n",
       "3  http://hotels.ctrip.com/hotel/dianping/1490366...     武隆强兴客栈   \n",
       "4  http://hotels.ctrip.com/hotel/dianping/1490366...     武隆强兴客栈   \n",
       "\n",
       "       post_time   user_level user_name  \\\n",
       "0  发表于2018-01-05    level_new     M***1   \n",
       "1  发表于2017-09-30    level_new     M***6   \n",
       "2  发表于2017-08-15    level_new     _***1   \n",
       "3  发表于2017-05-07  level_daren        阿龙   \n",
       "4  发表于2017-04-01    level_new     M***4   \n",
       "\n",
       "                                             content  user_score  \\\n",
       "0  真的不错，看到这个评论有些人说不怎么好，个人有点小洁癖，害怕卫生不干净，但是去了之后，发现房...         5.0   \n",
       "1  第一次到武隆玩，觉得酒店卫生各方面还行，服务态度好，吃饭方便楼下特色小吃也很多，老板娘还亲自...         4.5   \n",
       "2  要去武隆天生三桥，晚上坐火车到了。如果想旅途开心，还是不要住这里了。第一，床单上黄的、黑的，...         1.0   \n",
       "3  怎么说呢？这家酒店离车站很近，比较方便，我们是在五一前订的，价格才88，不知道是不是比较便宜...         3.0   \n",
       "4  老板人很好，为了方便我们停车还特地给我们占着停车位。感觉还是挺干净的，被子上折痕还在，应该是...         3.5   \n",
       "\n",
       "   sa_model_score1  sa_model_score2  user_score_normal  \n",
       "0            0.883         0.188292                1.0  \n",
       "1            1.000         0.996451                0.9  \n",
       "2            0.000         0.001503                0.2  \n",
       "3            0.001         0.103732                0.6  \n",
       "4            1.000         0.442257                0.7  "
      ]
     },
     "execution_count": 6,
     "metadata": {},
     "output_type": "execute_result"
    }
   ],
   "source": [
    "# 清洗数据并归一化用户打分\n",
    "data['user_score'] = data['user_score'].apply(lambda x : 0 if x == '信息不存在' else float(x))\n",
    "%time data['user_score_normal']= data['user_score'].apply(lambda x : round(x/5,3))\n",
    "data.head()"
   ]
  },
  {
   "cell_type": "code",
   "execution_count": 37,
   "metadata": {},
   "outputs": [],
   "source": [
    "# 数据抽样\n",
    "model_score1 = data['sa_model_score1']\n",
    "model_score2 = data['sa_model_score2']\n",
    "user_score = data['user_score_normal']"
   ]
  },
  {
   "cell_type": "markdown",
   "metadata": {},
   "source": [
    "# 结果可视化"
   ]
  },
  {
   "cell_type": "code",
   "execution_count": 38,
   "metadata": {},
   "outputs": [
    {
     "data": {
      "image/png": "[encoded data removed]",
      "text/plain": [
       "<Figure size 720x576 with 1 Axes>"
      ]
     },
     "metadata": {
      "needs_background": "light"
     },
     "output_type": "display_data"
    }
   ],
   "source": [
    "import matplotlib.pyplot as plt\n",
    "plt.rcParams['font.sans-serif'] = ['SimHei']\n",
    "plt.rcParams['axes.unicode_minus'] = False\n",
    "plt.rcParams['figure.figsize'] = (10.0, 8.0)\n",
    "plt.plot(model_score1, color='red', label='模型1打分')\n",
    "# plt.plot(user_score,  color='blue', label='用户打分')\n",
    "plt.plot(model_score2,  color='blue', label='模型2打分')\n",
    "plt.legend() # 显示图例\n",
    "plt.xlabel('用户数')\n",
    "plt.ylabel('情感分数')\n",
    "plt.title('意见挖掘可视化')\n",
    "plt.show()"
   ]
  },
  {
   "cell_type": "code",
   "execution_count": 39,
   "metadata": {},
   "outputs": [
    {
     "data": {
      "image/png": "[encoded data removed]",
      "text/plain": [
       "<Figure size 720x576 with 1 Axes>"
      ]
     },
     "metadata": {
      "needs_background": "light"
     },
     "output_type": "display_data"
    }
   ],
   "source": [
    "# 模型1打分\n",
    "import numpy as np\n",
    "plt.hist(model_score1, bins=np.arange(0, 1, 0.01))\n",
    "plt.xlabel(\"情感值\")\n",
    "plt.ylabel(\"评论数目\")\n",
    "plt.title('模型1打分情感极性分布图')\n",
    "plt.show()"
   ]
  },
  {
   "cell_type": "code",
   "execution_count": 40,
   "metadata": {},
   "outputs": [
    {
     "data": {
      "image/png": "[encoded data removed]",
      "text/plain": [
       "<Figure size 720x576 with 1 Axes>"
      ]
     },
     "metadata": {
      "needs_background": "light"
     },
     "output_type": "display_data"
    }
   ],
   "source": [
    "# 模型2打分\n",
    "import numpy as np\n",
    "plt.hist(model_score2, bins=np.arange(0, 1, 0.01))\n",
    "plt.xlabel(\"情感值\")\n",
    "plt.ylabel(\"评论数目\")\n",
    "plt.title('模型2打分情感极性分布图')\n",
    "plt.show()"
   ]
  },
  {
   "cell_type": "code",
   "execution_count": 41,
   "metadata": {},
   "outputs": [
    {
     "data": {
      "image/png": "[encoded data removed]",
      "text/plain": [
       "<Figure size 720x576 with 1 Axes>"
      ]
     },
     "metadata": {
      "needs_background": "light"
     },
     "output_type": "display_data"
    }
   ],
   "source": [
    "# 用户打分\n",
    "plt.hist(user_score, bins=np.arange(0, 1, 0.01))\n",
    "plt.xlabel(\"情感值\")\n",
    "plt.ylabel(\"评论数目\")\n",
    "plt.title('用户打分情感极性分布图')\n",
    "plt.show()"
   ]
  },
  {
   "cell_type": "code",
   "execution_count": 42,
   "metadata": {},
   "outputs": [
    {
     "data": {
      "text/html": [
       "<div>\n",
       "<style scoped>\n",
       "    .dataframe tbody tr th:only-of-type {\n",
       "        vertical-align: middle;\n",
       "    }\n",
       "\n",
       "    .dataframe tbody tr th {\n",
       "        vertical-align: top;\n",
       "    }\n",
       "\n",
       "    .dataframe thead th {\n",
       "        text-align: right;\n",
       "    }\n",
       "</style>\n",
       "<table border=\"1\" class=\"dataframe\">\n",
       "  <thead>\n",
       "    <tr style=\"text-align: right;\">\n",
       "      <th></th>\n",
       "      <th>sa_model_score1</th>\n",
       "      <th>sa_model_score2</th>\n",
       "      <th>user_score_normal</th>\n",
       "    </tr>\n",
       "  </thead>\n",
       "  <tbody>\n",
       "    <tr>\n",
       "      <th>count</th>\n",
       "      <td>5677.000000</td>\n",
       "      <td>5677.000000</td>\n",
       "      <td>5677.000000</td>\n",
       "    </tr>\n",
       "    <tr>\n",
       "      <th>mean</th>\n",
       "      <td>0.794763</td>\n",
       "      <td>0.756779</td>\n",
       "      <td>0.521001</td>\n",
       "    </tr>\n",
       "    <tr>\n",
       "      <th>std</th>\n",
       "      <td>0.364549</td>\n",
       "      <td>0.343640</td>\n",
       "      <td>0.452833</td>\n",
       "    </tr>\n",
       "    <tr>\n",
       "      <th>min</th>\n",
       "      <td>0.000000</td>\n",
       "      <td>0.000000</td>\n",
       "      <td>0.000000</td>\n",
       "    </tr>\n",
       "    <tr>\n",
       "      <th>25%</th>\n",
       "      <td>0.830000</td>\n",
       "      <td>0.592000</td>\n",
       "      <td>0.000000</td>\n",
       "    </tr>\n",
       "    <tr>\n",
       "      <th>50%</th>\n",
       "      <td>0.999000</td>\n",
       "      <td>0.955000</td>\n",
       "      <td>0.760000</td>\n",
       "    </tr>\n",
       "    <tr>\n",
       "      <th>75%</th>\n",
       "      <td>1.000000</td>\n",
       "      <td>0.997000</td>\n",
       "      <td>1.000000</td>\n",
       "    </tr>\n",
       "    <tr>\n",
       "      <th>max</th>\n",
       "      <td>1.000000</td>\n",
       "      <td>1.000000</td>\n",
       "      <td>1.000000</td>\n",
       "    </tr>\n",
       "  </tbody>\n",
       "</table>\n",
       "</div>"
      ],
      "text/plain": [
       "       sa_model_score1  sa_model_score2  user_score_normal\n",
       "count      5677.000000      5677.000000        5677.000000\n",
       "mean          0.794763         0.756779           0.521001\n",
       "std           0.364549         0.343640           0.452833\n",
       "min           0.000000         0.000000           0.000000\n",
       "25%           0.830000         0.592000           0.000000\n",
       "50%           0.999000         0.955000           0.760000\n",
       "75%           1.000000         0.997000           1.000000\n",
       "max           1.000000         1.000000           1.000000"
      ]
     },
     "execution_count": 42,
     "metadata": {},
     "output_type": "execute_result"
    }
   ],
   "source": [
    "#  pandas的用户打分和模型打分统计-数据抽样\n",
    "static = data[['sa_model_score1','sa_model_score2','user_score_normal']]\n",
    "static.describe()"
   ]
  },
  {
   "cell_type": "markdown",
   "metadata": {},
   "source": [
    "# 总结\n",
    "1. tf模型需要预热,但是通过批量预测可以大大缩短总时间\n",
    "2. tf模型由于未对评价数据进行拟合,效果不是很好\n",
    "3. tf模型不会给出1分"
   ]
  }
 ],
 "metadata": {
  "kernelspec": {
   "display_name": "Python 3",
   "language": "python",
   "name": "python3"
  },
  "language_info": {
   "codemirror_mode": {
    "name": "ipython",
    "version": 3
   },
   "file_extension": ".py",
   "mimetype": "text/x-python",
   "name": "python",
   "nbconvert_exporter": "python",
   "pygments_lexer": "ipython3",
   "version": "3.6.5"
  }
 },
 "nbformat": 4,
 "nbformat_minor": 2
}
